{
 "cells": [
  {
   "cell_type": "code",
   "execution_count": null,
   "metadata": {},
   "outputs": [],
   "source": [
    "import numpy as np\n",
    "from numpy import load\n",
    "from matplotlib import pyplot as plt\n",
    "import matplotlib\n",
    "import  os"
   ]
  },
  {
   "cell_type": "code",
   "execution_count": null,
   "metadata": {},
   "outputs": [],
   "source": [
    "root_dir=\"~/Downloads/\""
   ]
  },
  {
   "cell_type": "code",
   "execution_count": null,
   "metadata": {},
   "outputs": [],
   "source": [
    "base_dir = root_dir + 'Segmented Numpy Data/'"
   ]
  },
  {
   "cell_type": "code",
   "execution_count": null,
   "metadata": {},
   "outputs": [],
   "source": [
    "#prepare the data from the images we cut\n",
    "\n",
    "data_output = np.zeros((1,6443008))\n",
    "data_input = np.zeros((1,6443008)) \n",
    "all_files = sorted(os.listdir(base_dir))\n",
    "\n",
    "for i in range(0,174):\n",
    "    filename = all_files[i]\n",
    "    if filename.endswith(\"seg.npz\"): \n",
    "      dict_data1 = load(base_dir + filename)\n",
    "      data_temp1 = dict_data1['arr_0']\n",
    "      data_temp1 = data_temp1.reshape(1,6443008)\n",
    "      data_output = np.vstack((data_output,data_temp1))\n",
    "    else:\n",
    "      dict_data2 = load(base_dir + filename)\n",
    "      data_temp2 = dict_data2['arr_0']\n",
    "      data_temp2 = data_temp2.reshape(1,6443008)\n",
    "      data_input = np.vstack((data_input,data_temp2))\n",
    "        \n",
    "data_output = np.delete(data_output,0, axis = 0)\n",
    "data_input = np.delete(data_input,0,axis = 0)\n",
    "print(data_output.shape)\n",
    "print(data_input.shape)"
   ]
  },
  {
   "cell_type": "code",
   "execution_count": null,
   "metadata": {},
   "outputs": [],
   "source": [
    "# Reshape into original input output of 176*208*176\n",
    "#Here 87 is initial sample size for both inputs and outputs\n",
    "data_input2 = data_input.reshape(87,176,208,176)\n",
    "data_output2 = data_output.reshape(87,176,208,176)\n",
    "print(data_output2.shape)\n",
    "print(data_input2.shape)"
   ]
  },
  {
   "cell_type": "code",
   "execution_count": null,
   "metadata": {},
   "outputs": [],
   "source": [
    "#remove outliers\n",
    "\n",
    "data_input2[data_input2 < 0] = 0\n",
    "data_input2[data_input2 > 255] = 255\n",
    "\n",
    "data_output2[data_output2 < 0] = 0\n",
    "data_output2[data_output2 > 255] = 255"
   ]
  },
  {
   "cell_type": "code",
   "execution_count": null,
   "metadata": {},
   "outputs": [],
   "source": [
    "#find the boundary of ventricles in x, y, z axis in each image\n",
    "index = np.zeros((87,6))\n",
    "\n",
    "# x-axis\n",
    "for i in range(0,87):\n",
    "  for j in range(0,88):\n",
    "    if (np.sum(data_output2[i,j,:,:])) > 0:\n",
    "      if j > 0:\n",
    "        index[i,0] = j\n",
    "        break\n",
    "\n",
    "for i in range(0,87):\n",
    "  for k in range(175,88,-1):\n",
    "    if (np.sum(data_output2[i,k,:,:])) > 0:\n",
    "      if k < 175:\n",
    "        index[i,1] = k\n",
    "        break\n",
    "        \n",
    "# y-axis\n",
    "for i in range(0,87):\n",
    "  for j in range(0,104):\n",
    "    if (np.sum(data_output2[i,:,j,:])) > 0:\n",
    "      if j > 0:\n",
    "        index[i,2] = j\n",
    "        break\n",
    "\n",
    "for i in range(0,87):\n",
    "  for k in range(175,88,-1):\n",
    "    if (np.sum(data_output2[i,:,k,:])) > 0:\n",
    "      if k < 175:\n",
    "        index[i,3] = k\n",
    "        break\n",
    "\n",
    "#z-axis\n",
    "for i in range(0,87):\n",
    "  for j in range(0,88):\n",
    "    if (np.sum(data_output2[i,:,:,j])) > 0:\n",
    "      if j > 0:\n",
    "        index[i,4] = j\n",
    "        break\n",
    "\n",
    "for i in range(0,87):\n",
    "  for k in range(175,88,-1):\n",
    "    if (np.sum(data_output2[i,:,:,k])) > 0:\n",
    "      if k < 175:\n",
    "        index[i,5] = k\n",
    "        break"
   ]
  },
  {
   "cell_type": "code",
   "execution_count": null,
   "metadata": {},
   "outputs": [],
   "source": [
    "print(data_input2.shape)\n",
    "print(data_output2.shape)\n",
    "\n",
    "# The common boundaries are the following\n",
    "# x-axis (42,121)\n",
    "# y-axis (40,161)\n",
    "# z-axis (32,134)\n",
    "\n",
    "#  Adjust a few more or less pixels to fit a good dimension shape \n",
    "\n",
    "# Extract the part include ventricles\n",
    "\n",
    "data_input_cut = data_input2[:,42:122,37:165,20:148]\n",
    "data_output_cut = data_output2[:,42:122,37:165,20:148]\n",
    "print(data_input_cut.shape)\n",
    "print(data_output_cut.shape)\n",
    "\n",
    "#Final Dimension should be 80, 128,128"
   ]
  },
  {
   "cell_type": "code",
   "execution_count": null,
   "metadata": {},
   "outputs": [],
   "source": [
    "#Check whether data has been imported properly\n",
    "# Plotting first image \n",
    "\n",
    "f, ax = plt.subplots(1,3)\n",
    "\n",
    "ax[0].imshow(data_input_cut[0,50,:,:],cmap=\"Greys\")\n",
    "ax[0].imshow(np.ma.masked_array(data_output_cut[0,50,:,:], data_output_cut[0,50,:,:]==0.0))\n",
    "\n",
    "ax[1].imshow(data_input_cut[0,:,50,:],cmap=\"Greys\")\n",
    "ax[1].imshow(np.ma.masked_array(data_output_cut[0,:,50,:], data_output_cut[0,:,50,:]==0.0))\n",
    "\n",
    "ax[2].imshow(data_input_cut[0,:,:,50],cmap=\"Greys\")\n",
    "ax[2].imshow(np.ma.masked_array(data_output_cut[0,:,:,50], data_output_cut[0,:,:,50]==0.0))"
   ]
  },
  {
   "cell_type": "code",
   "execution_count": null,
   "metadata": {},
   "outputs": [],
   "source": [
    "#To increase sample size flip the data along axis 1 and 2 , further concatenate it \n",
    "data_input_cut_flipud = np.flip(data_input_cut, axis=1)\n",
    "data_output_cut_flipud = np.flip(data_output_cut, axis=1)\n",
    "\n",
    "data_input_cut_fliplr = np.flip(data_input_cut, axis=2)\n",
    "data_output_cut_fliplr = np.flip(data_output_cut, axis=2)\n",
    "\n",
    "data_input_cut_all = np.concatenate((data_input_cut, data_input_cut_fliplr), axis=0)\n",
    "data_output_cut_all = np.concatenate((data_output_cut, data_output_cut_fliplr), axis=0)\n",
    "\n",
    "#Final sample size (261,80,128,128)"
   ]
  },
  {
   "cell_type": "code",
   "execution_count": null,
   "metadata": {},
   "outputs": [],
   "source": [
    "# Get the data into X and Y dataset arrays\n",
    "X_dataset=data_input_cut_all\n",
    "Y_dataset=data_output_cut_all\n",
    "print(X_dataset.shape)\n",
    "print(Y_dataset.shape)"
   ]
  },
  {
   "cell_type": "code",
   "execution_count": null,
   "metadata": {},
   "outputs": [],
   "source": [
    "#Randomize train test split and set seed for reproducibility\n",
    "np.random.seed(0)\n",
    "random_train = np.sort(np.random.choice(87,70,replace=False))\n",
    "random_test = np.setdiff1d(np.array([i for i in range(87)]),random_train,assume_unique=False)\n",
    "\n",
    "X_train = X_dataset[random_train]\n",
    "X_test = X_dataset[random_test]\n",
    "\n",
    "Y_train = Y_dataset[random_train]\n",
    "Y_test = Y_dataset[random_test]\n",
    "\n",
    "print(X_train.shape)\n",
    "print(X_test.shape)\n",
    "print(Y_train.shape)\n",
    "print(Y_test.shape)"
   ]
  },
  {
   "cell_type": "code",
   "execution_count": null,
   "metadata": {},
   "outputs": [],
   "source": [
    "# reshaping data into input tensor shape acceptable in keras 3D conv-net\n",
    "X_train = X_train.reshape(-1, 80, 128,128, 1)\n",
    "X_test = X_test.reshape(-1, 80, 128,128, 1)\n",
    "Y_train = Y_train.reshape(-1, 80, 128,128, 1)\n",
    "Y_test = Y_test.reshape(-1, 80, 128,128, 1)\n",
    "\n",
    "print(X_train.shape)\n",
    "print(X_test.shape)\n",
    "print(Y_train.shape)\n",
    "print(Y_test.shape)"
   ]
  },
  {
   "cell_type": "code",
   "execution_count": null,
   "metadata": {},
   "outputs": [],
   "source": []
  },
  {
   "cell_type": "code",
   "execution_count": null,
   "metadata": {},
   "outputs": [],
   "source": []
  },
  {
   "cell_type": "code",
   "execution_count": null,
   "metadata": {},
   "outputs": [],
   "source": []
  }
 ],
 "metadata": {
  "kernelspec": {
   "display_name": "Python 3",
   "language": "python",
   "name": "python3"
  },
  "language_info": {
   "codemirror_mode": {
    "name": "ipython",
    "version": 3
   },
   "file_extension": ".py",
   "mimetype": "text/x-python",
   "name": "python",
   "nbconvert_exporter": "python",
   "pygments_lexer": "ipython3",
   "version": "3.7.4"
  }
 },
 "nbformat": 4,
 "nbformat_minor": 2
}
