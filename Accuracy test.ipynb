{
 "cells": [
  {
   "cell_type": "markdown",
   "metadata": {},
   "source": [
    "### Import files to test on"
   ]
  },
  {
   "cell_type": "code",
   "execution_count": null,
   "metadata": {},
   "outputs": [],
   "source": [
    "from keras.models import load_model\n",
    "import numpy as np\n",
    "from numpy import load\n",
    "import matplotlib.pyplot as plt"
   ]
  },
  {
   "cell_type": "code",
   "execution_count": null,
   "metadata": {},
   "outputs": [],
   "source": [
    "# Load best model weights \n",
    "model.load_weights('my_keras_weights2.ckpt')\n",
    "X_testing= np.load('OAS1_0082_MR.npz')['arr_0'][42:122,37:165,20:148]\n",
    "Y_testing= np.load('OAS1_0082_MRseg.npz')['arr_0'][42:122,37:165,20:148]\n",
    "\n",
    "\n",
    "X_testing = X_testing.reshape(1,80,128,128,-1)\n",
    "\n",
    "print(X_testing.shape)\n",
    "print(Y_testing.shape)\n",
    "\n",
    "y_predict = np.around(model.predict(X_testing))\n",
    "\n",
    "y_predict = y_predict.reshape(-1,80,128,128)"
   ]
  },
  {
   "cell_type": "markdown",
   "metadata": {},
   "source": [
    "### Accuracy test"
   ]
  },
  {
   "cell_type": "code",
   "execution_count": null,
   "metadata": {},
   "outputs": [],
   "source": [
    "#Get predicted and testing sample\n",
    "PJ = y_predict.reshape(-1)\n",
    "AJ = Y_testing.reshape(-1)\n",
    "\n",
    "# Count number of matching voxels in prediction and test\n",
    "count = 0\n",
    "for i in range(PJ.shape[0]):\n",
    "    if PJ[i] == AJ[i]:\n",
    "        if PJ[i]==1:\n",
    "            count += 1\n",
    "#Get actual non_zeros(ventricle voxels)    \n",
    "total = np.count_nonzero(AJ)\n",
    "\n",
    "#Print resulting accuracy\n",
    "print(\"Predicted number of segment pixel: \", count)\n",
    "print(\"Actual number of segment pixel: \", np.count_nonzero(Y_testing))     \n",
    "print(\"Predicted Accuracy :\", count/total)"
   ]
  },
  {
   "cell_type": "markdown",
   "metadata": {},
   "source": [
    "### Visualizing Predictions"
   ]
  },
  {
   "cell_type": "code",
   "execution_count": null,
   "metadata": {},
   "outputs": [],
   "source": [
    "f, ax = plt.subplots(1,3)\n",
    "\n",
    "# 80 x 128 x 128\n",
    "X_plot = X_testing.reshape(80,128,128)\n",
    "y_plot = y_predict.reshape(89,128,128)\n",
    "\n",
    "# Formula x-axis: Actual Pixel Loc - 44 = Trunc. Pixel Loc\n",
    "ax[0].imshow(X_plot[56,:,:],cmap=\"Greys\")\n",
    "ax[0].imshow(np.ma.masked_array(y_plot[56,:,:], y_plot[56,:,:]==0.0))\n",
    "\n",
    "# Formula y-axis: Actual Pixel Loc - 52 = Trunc. Pixel Loc\n",
    "ax[1].imshow(X_plot[:,28,:],cmap=\"Greys\")\n",
    "ax[1].imshow(np.ma.masked_array(y_plot[:,28,:], y_plot[:,28,:]==0.0))\n",
    "\n",
    "# Formula z-axis: Actual Pixel Loc - 44 = Trunc. Pixel Loc\n",
    "ax[2].imshow(X_plot[:,:,26],cmap=\"Greys\")\n",
    "ax[2].imshow(np.ma.masked_array(y_plot[:,:,26], y_plot[:,:,26]==0.0))\n",
    "\n"
   ]
  },
  {
   "cell_type": "markdown",
   "metadata": {},
   "source": [
    "### Visualizing Actual samples"
   ]
  },
  {
   "cell_type": "code",
   "execution_count": null,
   "metadata": {},
   "outputs": [],
   "source": [
    "f, ax = plt.subplots(1,3)\n",
    "\n",
    "# 80 x 128 x 128\n",
    "\n",
    "# Formula x-axis: Actual Pixel Loc - 44 = Trunc. Pixel Loc\n",
    "ax[0].imshow(X_plot[56,:,:],cmap=\"Greys\")\n",
    "ax[0].imshow(np.ma.masked_array(Y_testing[56,:,:], Y_testing[56,:,:]==0.0))\n",
    "\n",
    "# Formula y-axis: Actual Pixel Loc - 52 = Trunc. Pixel Loc\n",
    "ax[1].imshow(X_plot[:,28,:],cmap=\"Greys\")\n",
    "ax[1].imshow(np.ma.masked_array(Y_testing[:,28,:], Y_testing[:,28,:]==0.0))\n",
    "\n",
    "# Formula z-axis: Actual Pixel Loc - 44 = Trunc. Pixel Loc\n",
    "ax[2].imshow(X_plot[:,:,26],cmap=\"Greys\")\n",
    "ax[2].imshow(np.ma.masked_array(Y_testing[:,:,26], Y_testing[:,:,26]==0.0))"
   ]
  }
 ],
 "metadata": {
  "kernelspec": {
   "display_name": "Python 3",
   "language": "python",
   "name": "python3"
  },
  "language_info": {
   "codemirror_mode": {
    "name": "ipython",
    "version": 3
   },
   "file_extension": ".py",
   "mimetype": "text/x-python",
   "name": "python",
   "nbconvert_exporter": "python",
   "pygments_lexer": "ipython3",
   "version": "3.7.4"
  }
 },
 "nbformat": 4,
 "nbformat_minor": 2
}
